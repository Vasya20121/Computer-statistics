{
 "cells": [
  {
   "cell_type": "markdown",
   "metadata": {},
   "source": [
    "# Проект №7 Статистика\n",
    "## Назаренко Василь"
   ]
  },
  {
   "cell_type": "markdown",
   "metadata": {},
   "source": [
    "### Завдання №1.1\n",
    "\n"
   ]
  },
  {
   "cell_type": "code",
   "execution_count": 340,
   "metadata": {},
   "outputs": [],
   "source": [
    "import numpy as np\n",
    "import scipy.stats as sp\n",
    "import pandas as pd\n",
    "import seaborn as sb\n",
    "import matplotlib.pyplot as plt\n",
    "from sklearn import linear_model\n",
    "%matplotlib inline "
   ]
  },
  {
   "cell_type": "markdown",
   "metadata": {},
   "source": [
    "1. Для заданого розподілу випадкового вектора (X,Y) знайти:"
   ]
  },
  {
   "cell_type": "code",
   "execution_count": 68,
   "metadata": {},
   "outputs": [
    {
     "data": {
      "text/html": [
       "<div>\n",
       "<style scoped>\n",
       "    .dataframe tbody tr th:only-of-type {\n",
       "        vertical-align: middle;\n",
       "    }\n",
       "\n",
       "    .dataframe tbody tr th {\n",
       "        vertical-align: top;\n",
       "    }\n",
       "\n",
       "    .dataframe thead th {\n",
       "        text-align: right;\n",
       "    }\n",
       "</style>\n",
       "<table border=\"1\" class=\"dataframe\">\n",
       "  <thead>\n",
       "    <tr style=\"text-align: right;\">\n",
       "      <th></th>\n",
       "      <th>1</th>\n",
       "      <th>2</th>\n",
       "      <th>3</th>\n",
       "      <th>4</th>\n",
       "      <th>5</th>\n",
       "      <th>6</th>\n",
       "    </tr>\n",
       "    <tr>\n",
       "      <th>X\\Y</th>\n",
       "      <th></th>\n",
       "      <th></th>\n",
       "      <th></th>\n",
       "      <th></th>\n",
       "      <th></th>\n",
       "      <th></th>\n",
       "    </tr>\n",
       "  </thead>\n",
       "  <tbody>\n",
       "    <tr>\n",
       "      <th>0</th>\n",
       "      <td>0.000000e+00</td>\n",
       "      <td>0.000000e+00</td>\n",
       "      <td>0.000000e+00</td>\n",
       "      <td>0.000000e+00</td>\n",
       "      <td>0.000000e+00</td>\n",
       "      <td>1.215770e-01</td>\n",
       "    </tr>\n",
       "    <tr>\n",
       "      <th>1</th>\n",
       "      <td>0.000000e+00</td>\n",
       "      <td>0.000000e+00</td>\n",
       "      <td>0.000000e+00</td>\n",
       "      <td>0.000000e+00</td>\n",
       "      <td>6.754300e-02</td>\n",
       "      <td>2.026280e-01</td>\n",
       "    </tr>\n",
       "    <tr>\n",
       "      <th>2</th>\n",
       "      <td>0.000000e+00</td>\n",
       "      <td>0.000000e+00</td>\n",
       "      <td>0.000000e+00</td>\n",
       "      <td>1.500900e-02</td>\n",
       "      <td>1.125710e-01</td>\n",
       "      <td>1.575990e-01</td>\n",
       "    </tr>\n",
       "    <tr>\n",
       "      <th>3</th>\n",
       "      <td>0.000000e+00</td>\n",
       "      <td>0.000000e+00</td>\n",
       "      <td>1.668000e-03</td>\n",
       "      <td>2.501600e-02</td>\n",
       "      <td>8.755500e-02</td>\n",
       "      <td>7.588100e-02</td>\n",
       "    </tr>\n",
       "    <tr>\n",
       "      <th>4</th>\n",
       "      <td>0.000000e+00</td>\n",
       "      <td>9.270000e-05</td>\n",
       "      <td>2.780000e-03</td>\n",
       "      <td>1.945700e-02</td>\n",
       "      <td>4.215600e-02</td>\n",
       "      <td>2.529400e-02</td>\n",
       "    </tr>\n",
       "    <tr>\n",
       "      <th>5</th>\n",
       "      <td>2.058910e-06</td>\n",
       "      <td>1.540000e-04</td>\n",
       "      <td>2.162000e-03</td>\n",
       "      <td>9.368000e-03</td>\n",
       "      <td>1.405200e-02</td>\n",
       "      <td>6.183000e-03</td>\n",
       "    </tr>\n",
       "    <tr>\n",
       "      <th>6</th>\n",
       "      <td>3.431520e-06</td>\n",
       "      <td>1.200000e-04</td>\n",
       "      <td>1.041000e-03</td>\n",
       "      <td>3.123000e-03</td>\n",
       "      <td>3.435000e-03</td>\n",
       "      <td>1.145000e-03</td>\n",
       "    </tr>\n",
       "    <tr>\n",
       "      <th>7</th>\n",
       "      <td>2.668960e-06</td>\n",
       "      <td>5.780000e-05</td>\n",
       "      <td>3.470000e-04</td>\n",
       "      <td>7.630000e-04</td>\n",
       "      <td>6.360000e-04</td>\n",
       "      <td>1.640000e-04</td>\n",
       "    </tr>\n",
       "    <tr>\n",
       "      <th>8</th>\n",
       "      <td>1.285050e-06</td>\n",
       "      <td>1.930000e-05</td>\n",
       "      <td>8.480000e-05</td>\n",
       "      <td>1.410000e-04</td>\n",
       "      <td>9.090000e-05</td>\n",
       "      <td>1.820000e-05</td>\n",
       "    </tr>\n",
       "    <tr>\n",
       "      <th>9</th>\n",
       "      <td>4.283510e-07</td>\n",
       "      <td>4.710000e-06</td>\n",
       "      <td>1.570000e-05</td>\n",
       "      <td>2.020000e-05</td>\n",
       "      <td>1.010000e-05</td>\n",
       "      <td>1.570000e-06</td>\n",
       "    </tr>\n",
       "    <tr>\n",
       "      <th>10</th>\n",
       "      <td>1.047080e-07</td>\n",
       "      <td>8.730000e-07</td>\n",
       "      <td>2.240000e-06</td>\n",
       "      <td>2.240000e-06</td>\n",
       "      <td>8.730000e-07</td>\n",
       "      <td>1.050000e-07</td>\n",
       "    </tr>\n",
       "    <tr>\n",
       "      <th>11</th>\n",
       "      <td>1.939040e-08</td>\n",
       "      <td>1.250000e-07</td>\n",
       "      <td>2.490000e-07</td>\n",
       "      <td>1.940000e-07</td>\n",
       "      <td>5.820000e-08</td>\n",
       "      <td>5.290000e-09</td>\n",
       "    </tr>\n",
       "    <tr>\n",
       "      <th>12</th>\n",
       "      <td>2.770060e-09</td>\n",
       "      <td>1.390000e-08</td>\n",
       "      <td>2.150000e-08</td>\n",
       "      <td>1.290000e-08</td>\n",
       "      <td>2.940000e-09</td>\n",
       "      <td>1.960000e-10</td>\n",
       "    </tr>\n",
       "    <tr>\n",
       "      <th>13</th>\n",
       "      <td>3.077840e-10</td>\n",
       "      <td>1.200000e-09</td>\n",
       "      <td>1.440000e-09</td>\n",
       "      <td>6.530000e-10</td>\n",
       "      <td>1.090000e-10</td>\n",
       "      <td>5.020000e-12</td>\n",
       "    </tr>\n",
       "    <tr>\n",
       "      <th>14</th>\n",
       "      <td>2.659860e-11</td>\n",
       "      <td>7.980000e-11</td>\n",
       "      <td>7.250000e-11</td>\n",
       "      <td>2.420000e-11</td>\n",
       "      <td>2.790000e-12</td>\n",
       "      <td>7.970000e-14</td>\n",
       "    </tr>\n",
       "    <tr>\n",
       "      <th>15</th>\n",
       "      <td>1.773240e-12</td>\n",
       "      <td>4.030000e-12</td>\n",
       "      <td>2.690000e-12</td>\n",
       "      <td>6.200000e-13</td>\n",
       "      <td>4.430000e-14</td>\n",
       "      <td>5.900000e-16</td>\n",
       "    </tr>\n",
       "    <tr>\n",
       "      <th>16</th>\n",
       "      <td>8.955770e-14</td>\n",
       "      <td>1.490000e-13</td>\n",
       "      <td>6.890000e-14</td>\n",
       "      <td>9.840000e-15</td>\n",
       "      <td>3.280000e-16</td>\n",
       "      <td>0.000000e+00</td>\n",
       "    </tr>\n",
       "    <tr>\n",
       "      <th>17</th>\n",
       "      <td>3.316950e-15</td>\n",
       "      <td>3.830000e-15</td>\n",
       "      <td>1.090000e-15</td>\n",
       "      <td>7.290000e-17</td>\n",
       "      <td>0.000000e+00</td>\n",
       "      <td>0.000000e+00</td>\n",
       "    </tr>\n",
       "    <tr>\n",
       "      <th>18</th>\n",
       "      <td>8.505000e-17</td>\n",
       "      <td>6.080000e-17</td>\n",
       "      <td>8.100000e-18</td>\n",
       "      <td>0.000000e+00</td>\n",
       "      <td>0.000000e+00</td>\n",
       "      <td>0.000000e+00</td>\n",
       "    </tr>\n",
       "    <tr>\n",
       "      <th>19</th>\n",
       "      <td>1.350000e-18</td>\n",
       "      <td>4.500000e-19</td>\n",
       "      <td>0.000000e+00</td>\n",
       "      <td>0.000000e+00</td>\n",
       "      <td>0.000000e+00</td>\n",
       "      <td>0.000000e+00</td>\n",
       "    </tr>\n",
       "    <tr>\n",
       "      <th>20</th>\n",
       "      <td>1.000000e-20</td>\n",
       "      <td>0.000000e+00</td>\n",
       "      <td>0.000000e+00</td>\n",
       "      <td>0.000000e+00</td>\n",
       "      <td>0.000000e+00</td>\n",
       "      <td>0.000000e+00</td>\n",
       "    </tr>\n",
       "  </tbody>\n",
       "</table>\n",
       "</div>"
      ],
      "text/plain": [
       "                1             2             3             4             5  \\\n",
       "X\\Y                                                                         \n",
       "0    0.000000e+00  0.000000e+00  0.000000e+00  0.000000e+00  0.000000e+00   \n",
       "1    0.000000e+00  0.000000e+00  0.000000e+00  0.000000e+00  6.754300e-02   \n",
       "2    0.000000e+00  0.000000e+00  0.000000e+00  1.500900e-02  1.125710e-01   \n",
       "3    0.000000e+00  0.000000e+00  1.668000e-03  2.501600e-02  8.755500e-02   \n",
       "4    0.000000e+00  9.270000e-05  2.780000e-03  1.945700e-02  4.215600e-02   \n",
       "5    2.058910e-06  1.540000e-04  2.162000e-03  9.368000e-03  1.405200e-02   \n",
       "6    3.431520e-06  1.200000e-04  1.041000e-03  3.123000e-03  3.435000e-03   \n",
       "7    2.668960e-06  5.780000e-05  3.470000e-04  7.630000e-04  6.360000e-04   \n",
       "8    1.285050e-06  1.930000e-05  8.480000e-05  1.410000e-04  9.090000e-05   \n",
       "9    4.283510e-07  4.710000e-06  1.570000e-05  2.020000e-05  1.010000e-05   \n",
       "10   1.047080e-07  8.730000e-07  2.240000e-06  2.240000e-06  8.730000e-07   \n",
       "11   1.939040e-08  1.250000e-07  2.490000e-07  1.940000e-07  5.820000e-08   \n",
       "12   2.770060e-09  1.390000e-08  2.150000e-08  1.290000e-08  2.940000e-09   \n",
       "13   3.077840e-10  1.200000e-09  1.440000e-09  6.530000e-10  1.090000e-10   \n",
       "14   2.659860e-11  7.980000e-11  7.250000e-11  2.420000e-11  2.790000e-12   \n",
       "15   1.773240e-12  4.030000e-12  2.690000e-12  6.200000e-13  4.430000e-14   \n",
       "16   8.955770e-14  1.490000e-13  6.890000e-14  9.840000e-15  3.280000e-16   \n",
       "17   3.316950e-15  3.830000e-15  1.090000e-15  7.290000e-17  0.000000e+00   \n",
       "18   8.505000e-17  6.080000e-17  8.100000e-18  0.000000e+00  0.000000e+00   \n",
       "19   1.350000e-18  4.500000e-19  0.000000e+00  0.000000e+00  0.000000e+00   \n",
       "20   1.000000e-20  0.000000e+00  0.000000e+00  0.000000e+00  0.000000e+00   \n",
       "\n",
       "                6  \n",
       "X\\Y                \n",
       "0    1.215770e-01  \n",
       "1    2.026280e-01  \n",
       "2    1.575990e-01  \n",
       "3    7.588100e-02  \n",
       "4    2.529400e-02  \n",
       "5    6.183000e-03  \n",
       "6    1.145000e-03  \n",
       "7    1.640000e-04  \n",
       "8    1.820000e-05  \n",
       "9    1.570000e-06  \n",
       "10   1.050000e-07  \n",
       "11   5.290000e-09  \n",
       "12   1.960000e-10  \n",
       "13   5.020000e-12  \n",
       "14   7.970000e-14  \n",
       "15   5.900000e-16  \n",
       "16   0.000000e+00  \n",
       "17   0.000000e+00  \n",
       "18   0.000000e+00  \n",
       "19   0.000000e+00  \n",
       "20   0.000000e+00  "
      ]
     },
     "execution_count": 68,
     "metadata": {},
     "output_type": "execute_result"
    }
   ],
   "source": [
    "table = pd.read_csv(\"task11.csv\", decimal = ',', delimiter = ' ', index_col = 0)\n",
    "table"
   ]
  },
  {
   "cell_type": "markdown",
   "metadata": {},
   "source": [
    "a) Розподіли компонент X, Y;"
   ]
  },
  {
   "cell_type": "code",
   "execution_count": 69,
   "metadata": {},
   "outputs": [
    {
     "name": "stdout",
     "output_type": "stream",
     "text": [
      "Розподіли:\n",
      "    X: \n",
      "    X\\Y\n",
      "0     1.215770e-01\n",
      "1     2.701710e-01\n",
      "2     2.851790e-01\n",
      "3     1.901200e-01\n",
      "4     8.977970e-02\n",
      "5     3.192106e-02\n",
      "6     8.867432e-03\n",
      "7     1.970469e-03\n",
      "8     3.554850e-04\n",
      "9     5.270835e-05\n",
      "10    6.435708e-06\n",
      "11    6.508804e-07\n",
      "12    5.420606e-08\n",
      "13    3.714804e-09\n",
      "14    2.059683e-10\n",
      "15    9.158130e-12\n",
      "16    3.176257e-13\n",
      "17    8.309850e-15\n",
      "18    1.539500e-16\n",
      "19    1.800000e-18\n",
      "20    1.000000e-20\n",
      "dtype: float64\n",
      "    \n",
      "    Y:\n",
      "    1    0.000010\n",
      "2    0.000450\n",
      "3    0.008101\n",
      "4    0.072900\n",
      "5    0.328050\n",
      "6    0.590491\n",
      "dtype: float64\n"
     ]
    }
   ],
   "source": [
    "x = table.sum(axis=1)\n",
    "y = table.sum(axis=0)\n",
    "print(f\"\"\"Розподіли:\n",
    "    X: \n",
    "    {x}\n",
    "    \n",
    "    Y:\n",
    "    {y}\"\"\")"
   ]
  },
  {
   "cell_type": "markdown",
   "metadata": {},
   "source": [
    "b) Характеристики компонент X, Y: математичне сподівання, дисперсія, коефіцієнт кореляції"
   ]
  },
  {
   "cell_type": "code",
   "execution_count": 70,
   "metadata": {},
   "outputs": [
    {
     "name": "stdout",
     "output_type": "stream",
     "text": [
      "Математичне сподівання\n",
      "X: 2.000001440504726\n",
      "Y: 4.500004629410833\n",
      "Дисперсія\n",
      "X: 1.7999946474370665\n",
      "Y: 0.4499796950334236\n",
      "Коефіцієнт кореляції\n",
      "Corr(X, Y) = -0.5000168080925708\n"
     ]
    }
   ],
   "source": [
    "x_variable = sp.rv_discrete(name='X', values=(np.arange(0, len(x)), x))\n",
    "y_variable = sp.rv_discrete(name='Y', values=(np.arange(0, len(y)), y))\n",
    "Exp_x, Exp_y = x_variable.mean(), y_variable.mean()\n",
    "Disp_x, Disp_y = x_variable.var(), y_variable.var()\n",
    "\n",
    "cov = sum([table.iloc[i, j] * i * j for i in range(len(x)) for j in range(len(y))]) - Exp_x * Exp_y\n",
    "corr = cov / np.sqrt(Disp_x * Disp_y)\n",
    "\n",
    "print(\"Математичне сподівання\")\n",
    "print(f\"\"\"X: {Exp_x}\n",
    "Y: {Exp_y}\"\"\")\n",
    "\n",
    "print(\"Дисперсія\")\n",
    "print(f\"\"\"X: {Disp_x}\n",
    "Y: {Disp_y}\"\"\")\n",
    "\n",
    "print(\"Коефіцієнт кореляції\")\n",
    "print(f\"Corr(X, Y) = {corr}\")"
   ]
  },
  {
   "cell_type": "markdown",
   "metadata": {},
   "source": [
    "c) Стовпчикові діаграми розподілів компонент X,Y."
   ]
  },
  {
   "cell_type": "code",
   "execution_count": 89,
   "metadata": {},
   "outputs": [
    {
     "data": {
      "image/png": "[encoded data removed]",
      "text/plain": [
       "<Figure size 1080x360 with 2 Axes>"
      ]
     },
     "metadata": {
      "needs_background": "light"
     },
     "output_type": "display_data"
    }
   ],
   "source": [
    "tmp, (std1, std2) = plt.subplots(1, 2, figsize=(15, 5))\n",
    "\n",
    "plt.rcParams.update({'font.size': 15, 'text.color': 'black', 'axes.facecolor': 'white'})\n",
    "std1.set_title('Розподiл -- x')\n",
    "std2.set_title('Розподiл -- y')\n",
    "\n",
    "std1.bar(np.arange(0, len(x)), x)\n",
    "std2.bar(np.arange(0, len(y)), y)\n",
    "plt.show()"
   ]
  },
  {
   "cell_type": "markdown",
   "metadata": {},
   "source": [
    "### Завдання 1.2\n",
    "\n",
    "У таблицях (рядки - десятки, стовпчики - одиниці) наведено теоретичні розподіли трьох біноміальних величин Binom(40,p) для значень  \n",
    "\n",
    "a) p = 0.3, b) p = 0.03, c) p = 0.003;   \n",
    "\n",
    "Для кожної випадкової величини побудувати стовпчикові діаграми розподілу. З теорем Муавра-Лапласа та Пуассона знайти значення параметрів апроксимуючих розподілів, нормального та пуасонівського відповідно, зобразити їх на одному графіку з початковим розподілом  у лінійній та логарифмічній шкалі осі ординат. "
   ]
  },
  {
   "cell_type": "code",
   "execution_count": 90,
   "metadata": {},
   "outputs": [],
   "source": [
    "lst_p = [0.3, 0.03, 0.003]\n",
    "n = 40\n",
    "\n",
    "x = np.arange(0, n+1)\n",
    "    \n",
    "def Moivre_Laplace(p, n):\n",
    "    x_nk = (x - n * p) / np.sqrt(n * p * (1 - p))\n",
    "    return sp.norm.pdf(x_nk) / np.sqrt(n * p * (1 - p))"
   ]
  },
  {
   "cell_type": "code",
   "execution_count": 131,
   "metadata": {},
   "outputs": [],
   "source": [
    "def graphic(p, values, left, right):\n",
    "    f, (axs1, axs2) = plt.subplots(1, 2, figsize=(15, 5))\n",
    "\n",
    "    axs1.bar(x, values, label='Фактичний розподіл')\n",
    "    axs1.plot(x, sp.poisson(n*p).pmf(x), 'y', lw='6', label='Пуасонівське наближення' )\n",
    "    axs1.plot(x, Moivre_Laplace(p, n), 'g', lw='6', label='Муавра-Лапласа наближення')\n",
    "    axs1.set_xlim(left, right)\n",
    "    axs1.set_title('Binom(40, {})- лінійний'.format(p))\n",
    "    axs1.legend()\n",
    "\n",
    "    axs2.bar(x, values, label='Фактичний розподіл')\n",
    "    axs2.plot(x, sp.poisson(n*p).pmf(x), 'y', lw='6', label='Пуасонівське наближення' )\n",
    "    axs2.plot(x, Moivre_Laplace(p, n), 'g', lw='6', label='Муавра-Лапласа наближення')\n",
    "    axs2.set_yscale('log')\n",
    "    axs2.set_title('Binom(40, {})-логарифмічний'.format(p))\n",
    "    axs2.legend()\n",
    "    plt.show()"
   ]
  },
  {
   "cell_type": "markdown",
   "metadata": {},
   "source": [
    "a) Binom(40, 0.3)"
   ]
  },
  {
   "cell_type": "code",
   "execution_count": 125,
   "metadata": {},
   "outputs": [
    {
     "data": {
      "text/html": [
       "<div>\n",
       "<style scoped>\n",
       "    .dataframe tbody tr th:only-of-type {\n",
       "        vertical-align: middle;\n",
       "    }\n",
       "\n",
       "    .dataframe tbody tr th {\n",
       "        vertical-align: top;\n",
       "    }\n",
       "\n",
       "    .dataframe thead th {\n",
       "        text-align: right;\n",
       "    }\n",
       "</style>\n",
       "<table border=\"1\" class=\"dataframe\">\n",
       "  <thead>\n",
       "    <tr style=\"text-align: right;\">\n",
       "      <th></th>\n",
       "      <th>0</th>\n",
       "      <th>1</th>\n",
       "      <th>2</th>\n",
       "      <th>3</th>\n",
       "      <th>4</th>\n",
       "      <th>5</th>\n",
       "      <th>6</th>\n",
       "      <th>7</th>\n",
       "      <th>8</th>\n",
       "      <th>9</th>\n",
       "    </tr>\n",
       "    <tr>\n",
       "      <th>a</th>\n",
       "      <th></th>\n",
       "      <th></th>\n",
       "      <th></th>\n",
       "      <th></th>\n",
       "      <th></th>\n",
       "      <th></th>\n",
       "      <th></th>\n",
       "      <th></th>\n",
       "      <th></th>\n",
       "      <th></th>\n",
       "    </tr>\n",
       "  </thead>\n",
       "  <tbody>\n",
       "    <tr>\n",
       "      <th>0</th>\n",
       "      <td>6.366810e-07</td>\n",
       "      <td>1.090000e-05</td>\n",
       "      <td>9.120000e-05</td>\n",
       "      <td>4.950000e-04</td>\n",
       "      <td>1.963000e-03</td>\n",
       "      <td>6.057000e-03</td>\n",
       "      <td>1.514300e-02</td>\n",
       "      <td>3.152200e-02</td>\n",
       "      <td>5.572600e-02</td>\n",
       "      <td>8.491600e-02</td>\n",
       "    </tr>\n",
       "    <tr>\n",
       "      <th>1</th>\n",
       "      <td>1.128173e-01</td>\n",
       "      <td>1.318640e-01</td>\n",
       "      <td>1.365740e-01</td>\n",
       "      <td>1.260680e-01</td>\n",
       "      <td>1.041990e-01</td>\n",
       "      <td>7.740500e-02</td>\n",
       "      <td>5.183400e-02</td>\n",
       "      <td>3.136200e-02</td>\n",
       "      <td>1.717400e-02</td>\n",
       "      <td>8.523000e-03</td>\n",
       "    </tr>\n",
       "    <tr>\n",
       "      <th>2</th>\n",
       "      <td>3.835144e-03</td>\n",
       "      <td>1.565000e-03</td>\n",
       "      <td>5.790000e-04</td>\n",
       "      <td>1.940000e-04</td>\n",
       "      <td>5.900000e-05</td>\n",
       "      <td>1.620000e-05</td>\n",
       "      <td>4.000000e-06</td>\n",
       "      <td>8.890000e-07</td>\n",
       "      <td>1.770000e-07</td>\n",
       "      <td>3.140000e-08</td>\n",
       "    </tr>\n",
       "    <tr>\n",
       "      <th>3</th>\n",
       "      <td>4.929920e-09</td>\n",
       "      <td>6.820000e-10</td>\n",
       "      <td>8.220000e-11</td>\n",
       "      <td>8.540000e-12</td>\n",
       "      <td>7.530000e-13</td>\n",
       "      <td>5.530000e-14</td>\n",
       "      <td>3.290000e-15</td>\n",
       "      <td>1.530000e-16</td>\n",
       "      <td>5.160000e-18</td>\n",
       "      <td>1.130000e-19</td>\n",
       "    </tr>\n",
       "    <tr>\n",
       "      <th>4</th>\n",
       "      <td>1.215770e-21</td>\n",
       "      <td>NaN</td>\n",
       "      <td>NaN</td>\n",
       "      <td>NaN</td>\n",
       "      <td>NaN</td>\n",
       "      <td>NaN</td>\n",
       "      <td>NaN</td>\n",
       "      <td>NaN</td>\n",
       "      <td>NaN</td>\n",
       "      <td>NaN</td>\n",
       "    </tr>\n",
       "  </tbody>\n",
       "</table>\n",
       "</div>"
      ],
      "text/plain": [
       "              0             1             2             3             4  \\\n",
       "a                                                                         \n",
       "0  6.366810e-07  1.090000e-05  9.120000e-05  4.950000e-04  1.963000e-03   \n",
       "1  1.128173e-01  1.318640e-01  1.365740e-01  1.260680e-01  1.041990e-01   \n",
       "2  3.835144e-03  1.565000e-03  5.790000e-04  1.940000e-04  5.900000e-05   \n",
       "3  4.929920e-09  6.820000e-10  8.220000e-11  8.540000e-12  7.530000e-13   \n",
       "4  1.215770e-21           NaN           NaN           NaN           NaN   \n",
       "\n",
       "              5             6             7             8             9  \n",
       "a                                                                        \n",
       "0  6.057000e-03  1.514300e-02  3.152200e-02  5.572600e-02  8.491600e-02  \n",
       "1  7.740500e-02  5.183400e-02  3.136200e-02  1.717400e-02  8.523000e-03  \n",
       "2  1.620000e-05  4.000000e-06  8.890000e-07  1.770000e-07  3.140000e-08  \n",
       "3  5.530000e-14  3.290000e-15  1.530000e-16  5.160000e-18  1.130000e-19  \n",
       "4           NaN           NaN           NaN           NaN           NaN  "
      ]
     },
     "execution_count": 125,
     "metadata": {},
     "output_type": "execute_result"
    }
   ],
   "source": [
    "table2a = pd.read_csv('task2a.csv', decimal=\",\", delimiter=' ', index_col = 0)\n",
    "table2a\n"
   ]
  },
  {
   "cell_type": "code",
   "execution_count": 126,
   "metadata": {},
   "outputs": [
    {
     "data": {
      "image/png": "[encoded data removed]",
      "text/plain": [
       "<Figure size 1080x360 with 2 Axes>"
      ]
     },
     "metadata": {
      "needs_background": "light"
     },
     "output_type": "display_data"
    }
   ],
   "source": [
    "table2a = table2a.stack()\n",
    "graphic(lst_p[0], table2a, -1, 40)"
   ]
  },
  {
   "cell_type": "markdown",
   "metadata": {},
   "source": [
    "b) Binom(40, 0.03)"
   ]
  },
  {
   "cell_type": "code",
   "execution_count": 147,
   "metadata": {},
   "outputs": [
    {
     "data": {
      "text/html": [
       "<div>\n",
       "<style scoped>\n",
       "    .dataframe tbody tr th:only-of-type {\n",
       "        vertical-align: middle;\n",
       "    }\n",
       "\n",
       "    .dataframe tbody tr th {\n",
       "        vertical-align: top;\n",
       "    }\n",
       "\n",
       "    .dataframe thead th {\n",
       "        text-align: right;\n",
       "    }\n",
       "</style>\n",
       "<table border=\"1\" class=\"dataframe\">\n",
       "  <thead>\n",
       "    <tr style=\"text-align: right;\">\n",
       "      <th></th>\n",
       "      <th>0</th>\n",
       "      <th>1</th>\n",
       "      <th>2</th>\n",
       "      <th>3</th>\n",
       "      <th>4</th>\n",
       "      <th>5</th>\n",
       "      <th>6</th>\n",
       "      <th>7</th>\n",
       "      <th>8</th>\n",
       "      <th>9</th>\n",
       "    </tr>\n",
       "    <tr>\n",
       "      <th>b</th>\n",
       "      <th></th>\n",
       "      <th></th>\n",
       "      <th></th>\n",
       "      <th></th>\n",
       "      <th></th>\n",
       "      <th></th>\n",
       "      <th></th>\n",
       "      <th></th>\n",
       "      <th></th>\n",
       "      <th></th>\n",
       "    </tr>\n",
       "  </thead>\n",
       "  <tbody>\n",
       "    <tr>\n",
       "      <th>0</th>\n",
       "      <td>2.957123e-01</td>\n",
       "      <td>3.658300e-01</td>\n",
       "      <td>2.206290e-01</td>\n",
       "      <td>8.643200e-02</td>\n",
       "      <td>2.472700e-02</td>\n",
       "      <td>5.506000e-03</td>\n",
       "      <td>9.930000e-04</td>\n",
       "      <td>1.490000e-04</td>\n",
       "      <td>1.900000e-05</td>\n",
       "      <td>2.090000e-06</td>\n",
       "    </tr>\n",
       "    <tr>\n",
       "      <th>1</th>\n",
       "      <td>2.007180e-07</td>\n",
       "      <td>1.690000e-08</td>\n",
       "      <td>1.270000e-09</td>\n",
       "      <td>8.430000e-11</td>\n",
       "      <td>5.030000e-12</td>\n",
       "      <td>2.700000e-13</td>\n",
       "      <td>1.300000e-14</td>\n",
       "      <td>5.690000e-16</td>\n",
       "      <td>2.250000e-17</td>\n",
       "      <td>8.050000e-19</td>\n",
       "    </tr>\n",
       "    <tr>\n",
       "      <th>2</th>\n",
       "      <td>2.613700e-20</td>\n",
       "      <td>7.700000e-22</td>\n",
       "      <td>2.060000e-23</td>\n",
       "      <td>4.980000e-25</td>\n",
       "      <td>1.090000e-26</td>\n",
       "      <td>2.160000e-28</td>\n",
       "      <td>3.850000e-30</td>\n",
       "      <td>6.180000e-32</td>\n",
       "      <td>8.870000e-34</td>\n",
       "      <td>1.130000e-35</td>\n",
       "    </tr>\n",
       "    <tr>\n",
       "      <th>3</th>\n",
       "      <td>1.287000e-37</td>\n",
       "      <td>1.280000e-39</td>\n",
       "      <td>1.120000e-41</td>\n",
       "      <td>8.370000e-44</td>\n",
       "      <td>5.330000e-46</td>\n",
       "      <td>2.830000e-48</td>\n",
       "      <td>1.210000e-50</td>\n",
       "      <td>4.060000e-53</td>\n",
       "      <td>9.910000e-56</td>\n",
       "      <td>1.570000e-58</td>\n",
       "    </tr>\n",
       "    <tr>\n",
       "      <th>4</th>\n",
       "      <td>1.215770e-61</td>\n",
       "      <td>NaN</td>\n",
       "      <td>NaN</td>\n",
       "      <td>NaN</td>\n",
       "      <td>NaN</td>\n",
       "      <td>NaN</td>\n",
       "      <td>NaN</td>\n",
       "      <td>NaN</td>\n",
       "      <td>NaN</td>\n",
       "      <td>NaN</td>\n",
       "    </tr>\n",
       "  </tbody>\n",
       "</table>\n",
       "</div>"
      ],
      "text/plain": [
       "              0             1             2             3             4  \\\n",
       "b                                                                         \n",
       "0  2.957123e-01  3.658300e-01  2.206290e-01  8.643200e-02  2.472700e-02   \n",
       "1  2.007180e-07  1.690000e-08  1.270000e-09  8.430000e-11  5.030000e-12   \n",
       "2  2.613700e-20  7.700000e-22  2.060000e-23  4.980000e-25  1.090000e-26   \n",
       "3  1.287000e-37  1.280000e-39  1.120000e-41  8.370000e-44  5.330000e-46   \n",
       "4  1.215770e-61           NaN           NaN           NaN           NaN   \n",
       "\n",
       "              5             6             7             8             9  \n",
       "b                                                                        \n",
       "0  5.506000e-03  9.930000e-04  1.490000e-04  1.900000e-05  2.090000e-06  \n",
       "1  2.700000e-13  1.300000e-14  5.690000e-16  2.250000e-17  8.050000e-19  \n",
       "2  2.160000e-28  3.850000e-30  6.180000e-32  8.870000e-34  1.130000e-35  \n",
       "3  2.830000e-48  1.210000e-50  4.060000e-53  9.910000e-56  1.570000e-58  \n",
       "4           NaN           NaN           NaN           NaN           NaN  "
      ]
     },
     "execution_count": 147,
     "metadata": {},
     "output_type": "execute_result"
    }
   ],
   "source": [
    "table2b = pd.read_csv('task2b.csv', decimal=\",\", delimiter=' ', index_col = 0)\n",
    "table2b\n"
   ]
  },
  {
   "cell_type": "code",
   "execution_count": 148,
   "metadata": {},
   "outputs": [
    {
     "data": {
      "image/png": "[encoded data removed]",
      "text/plain": [
       "<Figure size 1080x360 with 2 Axes>"
      ]
     },
     "metadata": {
      "needs_background": "light"
     },
     "output_type": "display_data"
    }
   ],
   "source": [
    "table2b = table2b.stack()\n",
    "graphic(lst_p[1], table2b, -1, 40)"
   ]
  },
  {
   "cell_type": "markdown",
   "metadata": {},
   "source": [
    "c) Binom(40, 0.003)"
   ]
  },
  {
   "cell_type": "code",
   "execution_count": 343,
   "metadata": {
    "scrolled": true
   },
   "outputs": [
    {
     "data": {
      "text/html": [
       "<div>\n",
       "<style scoped>\n",
       "    .dataframe tbody tr th:only-of-type {\n",
       "        vertical-align: middle;\n",
       "    }\n",
       "\n",
       "    .dataframe tbody tr th {\n",
       "        vertical-align: top;\n",
       "    }\n",
       "\n",
       "    .dataframe thead th {\n",
       "        text-align: right;\n",
       "    }\n",
       "</style>\n",
       "<table border=\"1\" class=\"dataframe\">\n",
       "  <thead>\n",
       "    <tr style=\"text-align: right;\">\n",
       "      <th></th>\n",
       "      <th>0</th>\n",
       "      <th>1</th>\n",
       "      <th>2</th>\n",
       "      <th>3</th>\n",
       "      <th>4</th>\n",
       "      <th>5</th>\n",
       "      <th>6</th>\n",
       "      <th>7</th>\n",
       "      <th>8</th>\n",
       "      <th>9</th>\n",
       "    </tr>\n",
       "    <tr>\n",
       "      <th>с</th>\n",
       "      <th></th>\n",
       "      <th></th>\n",
       "      <th></th>\n",
       "      <th></th>\n",
       "      <th></th>\n",
       "      <th></th>\n",
       "      <th></th>\n",
       "      <th></th>\n",
       "      <th></th>\n",
       "      <th></th>\n",
       "    </tr>\n",
       "  </thead>\n",
       "  <tbody>\n",
       "    <tr>\n",
       "      <th>0</th>\n",
       "      <td>8.867605e-01</td>\n",
       "      <td>1.067310e-01</td>\n",
       "      <td>6.263000e-03</td>\n",
       "      <td>2.390000e-04</td>\n",
       "      <td>6.640000e-06</td>\n",
       "      <td>1.440000e-07</td>\n",
       "      <td>2.530000e-09</td>\n",
       "      <td>3.690000e-11</td>\n",
       "      <td>4.580000e-13</td>\n",
       "      <td>4.900000e-15</td>\n",
       "    </tr>\n",
       "    <tr>\n",
       "      <th>1</th>\n",
       "      <td>4.573930e-17</td>\n",
       "      <td>3.750000e-19</td>\n",
       "      <td>2.730000e-21</td>\n",
       "      <td>1.770000e-23</td>\n",
       "      <td>1.030000e-25</td>\n",
       "      <td>5.350000e-28</td>\n",
       "      <td>2.520000e-30</td>\n",
       "      <td>1.070000e-32</td>\n",
       "      <td>4.110000e-35</td>\n",
       "      <td>1.430000e-37</td>\n",
       "    </tr>\n",
       "    <tr>\n",
       "      <th>2</th>\n",
       "      <td>4.526100e-40</td>\n",
       "      <td>1.300000e-42</td>\n",
       "      <td>3.370000e-45</td>\n",
       "      <td>7.940000e-48</td>\n",
       "      <td>1.690000e-50</td>\n",
       "      <td>3.260000e-53</td>\n",
       "      <td>5.660000e-56</td>\n",
       "      <td>8.820000e-59</td>\n",
       "      <td>1.230000e-61</td>\n",
       "      <td>1.540000e-64</td>\n",
       "    </tr>\n",
       "    <tr>\n",
       "      <th>3</th>\n",
       "      <td>1.693600e-67</td>\n",
       "      <td>1.640000e-70</td>\n",
       "      <td>1.390000e-73</td>\n",
       "      <td>1.010000e-76</td>\n",
       "      <td>6.290000e-80</td>\n",
       "      <td>3.240000e-83</td>\n",
       "      <td>1.360000e-86</td>\n",
       "      <td>4.410000e-90</td>\n",
       "      <td>1.050000e-93</td>\n",
       "      <td>1.620000e-97</td>\n",
       "    </tr>\n",
       "    <tr>\n",
       "      <th>4</th>\n",
       "      <td>1.215800e-101</td>\n",
       "      <td>NaN</td>\n",
       "      <td>NaN</td>\n",
       "      <td>NaN</td>\n",
       "      <td>NaN</td>\n",
       "      <td>NaN</td>\n",
       "      <td>NaN</td>\n",
       "      <td>NaN</td>\n",
       "      <td>NaN</td>\n",
       "      <td>NaN</td>\n",
       "    </tr>\n",
       "  </tbody>\n",
       "</table>\n",
       "</div>"
      ],
      "text/plain": [
       "               0             1             2             3             4  \\\n",
       "с                                                                          \n",
       "0   8.867605e-01  1.067310e-01  6.263000e-03  2.390000e-04  6.640000e-06   \n",
       "1   4.573930e-17  3.750000e-19  2.730000e-21  1.770000e-23  1.030000e-25   \n",
       "2   4.526100e-40  1.300000e-42  3.370000e-45  7.940000e-48  1.690000e-50   \n",
       "3   1.693600e-67  1.640000e-70  1.390000e-73  1.010000e-76  6.290000e-80   \n",
       "4  1.215800e-101           NaN           NaN           NaN           NaN   \n",
       "\n",
       "              5             6             7             8             9  \n",
       "с                                                                        \n",
       "0  1.440000e-07  2.530000e-09  3.690000e-11  4.580000e-13  4.900000e-15  \n",
       "1  5.350000e-28  2.520000e-30  1.070000e-32  4.110000e-35  1.430000e-37  \n",
       "2  3.260000e-53  5.660000e-56  8.820000e-59  1.230000e-61  1.540000e-64  \n",
       "3  3.240000e-83  1.360000e-86  4.410000e-90  1.050000e-93  1.620000e-97  \n",
       "4           NaN           NaN           NaN           NaN           NaN  "
      ]
     },
     "execution_count": 343,
     "metadata": {},
     "output_type": "execute_result"
    }
   ],
   "source": [
    "table2c = pd.read_csv('task2c.csv', decimal=\",\", index_col=0, delimiter=' ')\n",
    "table2c"
   ]
  },
  {
   "cell_type": "markdown",
   "metadata": {},
   "source": [
    "3. У таблиці наведено вибірку з показникового розподілу з параметром λ=3:\n"
   ]
  },
  {
   "cell_type": "code",
   "execution_count": 251,
   "metadata": {},
   "outputs": [
    {
     "data": {
      "text/html": [
       "<div>\n",
       "<style scoped>\n",
       "    .dataframe tbody tr th:only-of-type {\n",
       "        vertical-align: middle;\n",
       "    }\n",
       "\n",
       "    .dataframe tbody tr th {\n",
       "        vertical-align: top;\n",
       "    }\n",
       "\n",
       "    .dataframe thead th {\n",
       "        text-align: right;\n",
       "    }\n",
       "</style>\n",
       "<table border=\"1\" class=\"dataframe\">\n",
       "  <thead>\n",
       "    <tr style=\"text-align: right;\">\n",
       "      <th></th>\n",
       "      <th>0</th>\n",
       "      <th>1</th>\n",
       "      <th>2</th>\n",
       "      <th>3</th>\n",
       "      <th>4</th>\n",
       "      <th>5</th>\n",
       "    </tr>\n",
       "    <tr>\n",
       "      <th>_</th>\n",
       "      <th></th>\n",
       "      <th></th>\n",
       "      <th></th>\n",
       "      <th></th>\n",
       "      <th></th>\n",
       "      <th></th>\n",
       "    </tr>\n",
       "  </thead>\n",
       "  <tbody>\n",
       "    <tr>\n",
       "      <th>0</th>\n",
       "      <td>0.011</td>\n",
       "      <td>0.417</td>\n",
       "      <td>0.094</td>\n",
       "      <td>0.121</td>\n",
       "      <td>0.128</td>\n",
       "      <td>0.120</td>\n",
       "    </tr>\n",
       "    <tr>\n",
       "      <th>1</th>\n",
       "      <td>0.572</td>\n",
       "      <td>0.029</td>\n",
       "      <td>0.533</td>\n",
       "      <td>0.016</td>\n",
       "      <td>0.235</td>\n",
       "      <td>0.381</td>\n",
       "    </tr>\n",
       "    <tr>\n",
       "      <th>2</th>\n",
       "      <td>0.069</td>\n",
       "      <td>0.354</td>\n",
       "      <td>0.207</td>\n",
       "      <td>0.699</td>\n",
       "      <td>0.110</td>\n",
       "      <td>0.126</td>\n",
       "    </tr>\n",
       "    <tr>\n",
       "      <th>3</th>\n",
       "      <td>0.775</td>\n",
       "      <td>1.222</td>\n",
       "      <td>0.211</td>\n",
       "      <td>0.356</td>\n",
       "      <td>0.443</td>\n",
       "      <td>0.806</td>\n",
       "    </tr>\n",
       "    <tr>\n",
       "      <th>4</th>\n",
       "      <td>0.139</td>\n",
       "      <td>0.495</td>\n",
       "      <td>0.060</td>\n",
       "      <td>0.037</td>\n",
       "      <td>0.237</td>\n",
       "      <td>0.646</td>\n",
       "    </tr>\n",
       "    <tr>\n",
       "      <th>5</th>\n",
       "      <td>0.316</td>\n",
       "      <td>0.846</td>\n",
       "      <td>0.161</td>\n",
       "      <td>0.314</td>\n",
       "      <td>1.163</td>\n",
       "      <td>0.306</td>\n",
       "    </tr>\n",
       "    <tr>\n",
       "      <th>6</th>\n",
       "      <td>0.266</td>\n",
       "      <td>0.054</td>\n",
       "      <td>0.307</td>\n",
       "      <td>0.805</td>\n",
       "      <td>NaN</td>\n",
       "      <td>NaN</td>\n",
       "    </tr>\n",
       "  </tbody>\n",
       "</table>\n",
       "</div>"
      ],
      "text/plain": [
       "       0      1      2      3      4      5\n",
       "_                                          \n",
       "0  0.011  0.417  0.094  0.121  0.128  0.120\n",
       "1  0.572  0.029  0.533  0.016  0.235  0.381\n",
       "2  0.069  0.354  0.207  0.699  0.110  0.126\n",
       "3  0.775  1.222  0.211  0.356  0.443  0.806\n",
       "4  0.139  0.495  0.060  0.037  0.237  0.646\n",
       "5  0.316  0.846  0.161  0.314  1.163  0.306\n",
       "6  0.266  0.054  0.307  0.805    NaN    NaN"
      ]
     },
     "execution_count": 251,
     "metadata": {},
     "output_type": "execute_result"
    }
   ],
   "source": [
    "table3 = pd.read_csv('task3.csv', decimal=\",\", index_col = 0, delimiter=' ')\n",
    "table3"
   ]
  },
  {
   "cell_type": "code",
   "execution_count": 272,
   "metadata": {},
   "outputs": [
    {
     "data": {
      "text/plain": [
       "0     0.011\n",
       "1     0.417\n",
       "2     0.094\n",
       "3     0.121\n",
       "4     0.128\n",
       "5     0.120\n",
       "6     0.572\n",
       "7     0.029\n",
       "8     0.533\n",
       "9     0.016\n",
       "10    0.235\n",
       "11    0.381\n",
       "12    0.069\n",
       "13    0.354\n",
       "14    0.207\n",
       "15    0.699\n",
       "16    0.110\n",
       "17    0.126\n",
       "18    0.775\n",
       "19    1.222\n",
       "20    0.211\n",
       "21    0.356\n",
       "22    0.443\n",
       "23    0.806\n",
       "24    0.139\n",
       "25    0.495\n",
       "26    0.060\n",
       "27    0.037\n",
       "28    0.237\n",
       "29    0.646\n",
       "30    0.316\n",
       "31    0.846\n",
       "32    0.161\n",
       "33    0.314\n",
       "34    1.163\n",
       "35    0.306\n",
       "36    0.266\n",
       "37    0.054\n",
       "38    0.307\n",
       "39    0.805\n",
       "dtype: float64"
      ]
     },
     "execution_count": 272,
     "metadata": {},
     "output_type": "execute_result"
    }
   ],
   "source": [
    "distribution = sp.t(6)\n",
    "dist = np.array(table3)\n",
    "b = np.reshape(dist, (1, np.product(dist.shape)))\n",
    "data = pd.Series(b[0])\n",
    "data = data[0:40]\n",
    "data"
   ]
  },
  {
   "cell_type": "markdown",
   "metadata": {},
   "source": [
    "a) Обчислити вибіркові характеристики (середнє, медіана, дисперсія, інтерквартильний розмах) та порівняти з теоретичними значеннями."
   ]
  },
  {
   "cell_type": "code",
   "execution_count": 273,
   "metadata": {},
   "outputs": [
    {
     "name": "stdout",
     "output_type": "stream",
     "text": [
      "Середнє:  0.354675\n",
      "Медіана:  0.28600000000000003\n",
      "Теоретичне значення:  6.919082007155017e-17\n",
      "Дисперсія:  0.09627812243589744\n",
      "Теоретичне значення:  1.5\n",
      "IQR:  0.6299999999999999\n",
      "Теоретичне значення:  nan\n"
     ]
    }
   ],
   "source": [
    "mean  = data.mean()\n",
    "theor_mean = 0\n",
    "print(\"Середнє: \", mean)\n",
    "\n",
    "median = data.median()\n",
    "theor_med = distribution.median()\n",
    "print(\"Медіана: \", median)\n",
    "print(\"Теоретичне значення: \", theor_med)\n",
    "\n",
    "variance = data.var()\n",
    "theor_var = distribution.var()\n",
    "print(\"Дисперсія: \",variance)\n",
    "print(\"Теоретичне значення: \", theor_var)\n",
    "\n",
    "qu = data[int(3*(len(data)-1)/4)]\n",
    "ql = data[int((len(data)-1)/4)]\n",
    "IQR = qu - ql\n",
    "theor_IQR = distribution.ppf(int(3*(len(data)-1)/4)) - distribution.ppf(int((len(data)-1)/4))\n",
    "print(\"IQR: \",IQR)\n",
    "print(\"Теоретичне значення: \", theor_IQR)"
   ]
  },
  {
   "cell_type": "markdown",
   "metadata": {},
   "source": [
    "b) Побудувати асимптотичний 90%-довірчий інтервал для математичного сподівання\n",
    "використовуючи ЦГТ. Побудувати емпіричний 90%-довірчий інтервал за M={10,100,1000} вибірками обсягу 40 використовуючи відомі значення параметрів розподілу. Порівняти результати."
   ]
  },
  {
   "cell_type": "code",
   "execution_count": 274,
   "metadata": {},
   "outputs": [
    {
     "name": "stdout",
     "output_type": "stream",
     "text": [
      "(-1.9431802803927822, 1.9431802803927816)\n",
      "0.1412212579386344 0.5681287420613657\n",
      "[-0.48963520215666256, 0.7335357023026469]\n",
      "[-0.16643192292809408, 0.18135735798692645]\n",
      "[-0.06750554281226633, 0.046203255331020925]\n"
     ]
    },
    {
     "name": "stderr",
     "output_type": "stream",
     "text": [
      "C:\\ProgramData\\Anaconda3\\lib\\site-packages\\ipykernel_launcher.py:11: FutureWarning: arrays to stack must be passed as a \"sequence\" type such as list or tuple. Support for non-sequence iterables such as generators is deprecated as of NumPy 1.16 and will raise an error in the future.\n",
      "  # This is added back by InteractiveShellApp.init_path()\n"
     ]
    }
   ],
   "source": [
    "theta = 0.90\n",
    "interval = distribution.interval(theta)\n",
    "print(interval)\n",
    "x_theta = distribution.ppf((1+ theta)/2)\n",
    "interval_n = mean - theta* distribution.var()/np.sqrt(len(data))\n",
    "interval_p = mean + theta*distribution.var()/np.sqrt(len(data))\n",
    "print(interval_n,interval_p)\n",
    "M = [10,100,1000]\n",
    "n = 40\n",
    "for i in M:\n",
    "    X = np.row_stack((distribution.rvs(size=n)) for _ in range(i))\n",
    "    means = X.mean(axis=0)\n",
    "    means.sort()\n",
    "    l, u = np.quantile(means, ((1 - theta) / 2, (1 + theta) / 2), axis=0)\n",
    "    print([l,u])"
   ]
  },
  {
   "cell_type": "markdown",
   "metadata": {},
   "source": [
    "c. Побудувати на одній площині гістограму та графік справжньої функції щільності у\n",
    "лінійній та логарифмічній шкалі для осі ординат."
   ]
  },
  {
   "cell_type": "code",
   "execution_count": 275,
   "metadata": {},
   "outputs": [
    {
     "data": {
      "image/png": "[encoded data removed]",
      "text/plain": [
       "<Figure size 720x360 with 2 Axes>"
      ]
     },
     "metadata": {
      "needs_background": "light"
     },
     "output_type": "display_data"
    }
   ],
   "source": [
    "x = np.linspace(0, max(data), len(data))\n",
    "fig, (ax1, ax2) = plt.subplots(1, 2, figsize=(10, 5))\n",
    "ax1.set_title(\"Лінійна шкала\")\n",
    "ax2.set_title(\"Логарифмічна шкала\")\n",
    "ax2.set_xscale(\"log\")\n",
    "sb.distplot(data, ax=ax1, label = \"Гістограма\", norm_hist=True, kde=False);\n",
    "sb.lineplot(x=x, y=distribution.pdf(x), ax=ax1, label=\"Функція щільності\");\n",
    "sb.distplot(data, ax=ax2, label = \"Гістограма\",norm_hist=True, kde=False);\n",
    "sb.lineplot(x=x, y=distribution.pdf(x), ax=ax2, label=\"Функція щільності\");\n",
    "plt.show()"
   ]
  },
  {
   "cell_type": "markdown",
   "metadata": {},
   "source": [
    "d. Побудувати на одній площині графіки емпіричної та теоретичної функцій розподілу.\n",
    "Порівняти «відстань» між ними (теорема Глівенко-Кантеллі)."
   ]
  },
  {
   "cell_type": "code",
   "execution_count": 280,
   "metadata": {},
   "outputs": [
    {
     "data": {
      "image/png": "[encoded data removed]",
      "text/plain": [
       "<Figure size 432x288 with 1 Axes>"
      ]
     },
     "metadata": {
      "needs_background": "light"
     },
     "output_type": "display_data"
    }
   ],
   "source": [
    "\n",
    "fig, (ax1) = plt.subplots(1)\n",
    "sb.distplot(data, ax=ax1, label = \"Емпірична\", norm_hist=True, kde=False);\n",
    "sb.lineplot(x=x, y=sp.expon.pdf(x, loc=0, scale = 3), ax=ax1, label=\"Функція щільності\");\n",
    "plt.show()"
   ]
  },
  {
   "cell_type": "markdown",
   "metadata": {},
   "source": [
    "4. У таблиці наведено гіпотетичні дані про рівень деякого показника (Відгук) за роками та\n",
    "значення двох факторів. "
   ]
  },
  {
   "cell_type": "code",
   "execution_count": 281,
   "metadata": {},
   "outputs": [
    {
     "data": {
      "text/html": [
       "<div>\n",
       "<style scoped>\n",
       "    .dataframe tbody tr th:only-of-type {\n",
       "        vertical-align: middle;\n",
       "    }\n",
       "\n",
       "    .dataframe tbody tr th {\n",
       "        vertical-align: top;\n",
       "    }\n",
       "\n",
       "    .dataframe thead th {\n",
       "        text-align: right;\n",
       "    }\n",
       "</style>\n",
       "<table border=\"1\" class=\"dataframe\">\n",
       "  <thead>\n",
       "    <tr style=\"text-align: right;\">\n",
       "      <th></th>\n",
       "      <th>Відгук</th>\n",
       "      <th>Фактор1</th>\n",
       "      <th>Фактор2</th>\n",
       "      <th>Фактор3</th>\n",
       "    </tr>\n",
       "    <tr>\n",
       "      <th>Рік</th>\n",
       "      <th></th>\n",
       "      <th></th>\n",
       "      <th></th>\n",
       "      <th></th>\n",
       "    </tr>\n",
       "  </thead>\n",
       "  <tbody>\n",
       "    <tr>\n",
       "      <th>2001</th>\n",
       "      <td>20.89</td>\n",
       "      <td>3.40</td>\n",
       "      <td>6.69</td>\n",
       "      <td>0.26</td>\n",
       "    </tr>\n",
       "    <tr>\n",
       "      <th>2002</th>\n",
       "      <td>20.47</td>\n",
       "      <td>3.78</td>\n",
       "      <td>6.58</td>\n",
       "      <td>-0.02</td>\n",
       "    </tr>\n",
       "    <tr>\n",
       "      <th>2003</th>\n",
       "      <td>22.74</td>\n",
       "      <td>4.19</td>\n",
       "      <td>7.25</td>\n",
       "      <td>-0.31</td>\n",
       "    </tr>\n",
       "    <tr>\n",
       "      <th>2004</th>\n",
       "      <td>20.19</td>\n",
       "      <td>3.33</td>\n",
       "      <td>5.91</td>\n",
       "      <td>0.05</td>\n",
       "    </tr>\n",
       "    <tr>\n",
       "      <th>2005</th>\n",
       "      <td>24.76</td>\n",
       "      <td>4.33</td>\n",
       "      <td>7.89</td>\n",
       "      <td>0.03</td>\n",
       "    </tr>\n",
       "    <tr>\n",
       "      <th>2006</th>\n",
       "      <td>21.74</td>\n",
       "      <td>3.90</td>\n",
       "      <td>6.77</td>\n",
       "      <td>0.08</td>\n",
       "    </tr>\n",
       "    <tr>\n",
       "      <th>2007</th>\n",
       "      <td>22.65</td>\n",
       "      <td>4.25</td>\n",
       "      <td>7.73</td>\n",
       "      <td>0.25</td>\n",
       "    </tr>\n",
       "    <tr>\n",
       "      <th>2008</th>\n",
       "      <td>22.56</td>\n",
       "      <td>4.03</td>\n",
       "      <td>6.82</td>\n",
       "      <td>-0.04</td>\n",
       "    </tr>\n",
       "    <tr>\n",
       "      <th>2009</th>\n",
       "      <td>24.07</td>\n",
       "      <td>4.16</td>\n",
       "      <td>7.34</td>\n",
       "      <td>0.27</td>\n",
       "    </tr>\n",
       "    <tr>\n",
       "      <th>2010</th>\n",
       "      <td>17.31</td>\n",
       "      <td>2.80</td>\n",
       "      <td>6.59</td>\n",
       "      <td>0.13</td>\n",
       "    </tr>\n",
       "    <tr>\n",
       "      <th>2011</th>\n",
       "      <td>23.57</td>\n",
       "      <td>4.88</td>\n",
       "      <td>7.11</td>\n",
       "      <td>0.29</td>\n",
       "    </tr>\n",
       "    <tr>\n",
       "      <th>2012</th>\n",
       "      <td>19.30</td>\n",
       "      <td>3.10</td>\n",
       "      <td>6.54</td>\n",
       "      <td>-0.18</td>\n",
       "    </tr>\n",
       "    <tr>\n",
       "      <th>2013</th>\n",
       "      <td>21.64</td>\n",
       "      <td>3.90</td>\n",
       "      <td>7.29</td>\n",
       "      <td>0.03</td>\n",
       "    </tr>\n",
       "    <tr>\n",
       "      <th>2014</th>\n",
       "      <td>22.46</td>\n",
       "      <td>4.36</td>\n",
       "      <td>6.90</td>\n",
       "      <td>-0.44</td>\n",
       "    </tr>\n",
       "    <tr>\n",
       "      <th>2015</th>\n",
       "      <td>23.50</td>\n",
       "      <td>4.40</td>\n",
       "      <td>7.28</td>\n",
       "      <td>-0.13</td>\n",
       "    </tr>\n",
       "    <tr>\n",
       "      <th>2016</th>\n",
       "      <td>18.63</td>\n",
       "      <td>2.59</td>\n",
       "      <td>5.92</td>\n",
       "      <td>0.14</td>\n",
       "    </tr>\n",
       "    <tr>\n",
       "      <th>2017</th>\n",
       "      <td>21.79</td>\n",
       "      <td>3.97</td>\n",
       "      <td>7.43</td>\n",
       "      <td>0.18</td>\n",
       "    </tr>\n",
       "    <tr>\n",
       "      <th>2018</th>\n",
       "      <td>20.18</td>\n",
       "      <td>3.62</td>\n",
       "      <td>6.65</td>\n",
       "      <td>0.19</td>\n",
       "    </tr>\n",
       "    <tr>\n",
       "      <th>2019</th>\n",
       "      <td>19.86</td>\n",
       "      <td>2.85</td>\n",
       "      <td>5.54</td>\n",
       "      <td>-0.31</td>\n",
       "    </tr>\n",
       "    <tr>\n",
       "      <th>2020</th>\n",
       "      <td>17.10</td>\n",
       "      <td>2.60</td>\n",
       "      <td>6.52</td>\n",
       "      <td>-0.15</td>\n",
       "    </tr>\n",
       "    <tr>\n",
       "      <th>2021</th>\n",
       "      <td>17.44</td>\n",
       "      <td>2.87</td>\n",
       "      <td>6.37</td>\n",
       "      <td>0.21</td>\n",
       "    </tr>\n",
       "    <tr>\n",
       "      <th>2022</th>\n",
       "      <td>21.48</td>\n",
       "      <td>3.70</td>\n",
       "      <td>6.35</td>\n",
       "      <td>-0.16</td>\n",
       "    </tr>\n",
       "    <tr>\n",
       "      <th>2023</th>\n",
       "      <td>23.15</td>\n",
       "      <td>4.65</td>\n",
       "      <td>6.59</td>\n",
       "      <td>0.10</td>\n",
       "    </tr>\n",
       "  </tbody>\n",
       "</table>\n",
       "</div>"
      ],
      "text/plain": [
       "      Відгук  Фактор1  Фактор2  Фактор3\n",
       "Рік                                    \n",
       "2001   20.89     3.40     6.69     0.26\n",
       "2002   20.47     3.78     6.58    -0.02\n",
       "2003   22.74     4.19     7.25    -0.31\n",
       "2004   20.19     3.33     5.91     0.05\n",
       "2005   24.76     4.33     7.89     0.03\n",
       "2006   21.74     3.90     6.77     0.08\n",
       "2007   22.65     4.25     7.73     0.25\n",
       "2008   22.56     4.03     6.82    -0.04\n",
       "2009   24.07     4.16     7.34     0.27\n",
       "2010   17.31     2.80     6.59     0.13\n",
       "2011   23.57     4.88     7.11     0.29\n",
       "2012   19.30     3.10     6.54    -0.18\n",
       "2013   21.64     3.90     7.29     0.03\n",
       "2014   22.46     4.36     6.90    -0.44\n",
       "2015   23.50     4.40     7.28    -0.13\n",
       "2016   18.63     2.59     5.92     0.14\n",
       "2017   21.79     3.97     7.43     0.18\n",
       "2018   20.18     3.62     6.65     0.19\n",
       "2019   19.86     2.85     5.54    -0.31\n",
       "2020   17.10     2.60     6.52    -0.15\n",
       "2021   17.44     2.87     6.37     0.21\n",
       "2022   21.48     3.70     6.35    -0.16\n",
       "2023   23.15     4.65     6.59     0.10"
      ]
     },
     "execution_count": 281,
     "metadata": {},
     "output_type": "execute_result"
    }
   ],
   "source": [
    "df = pd.read_csv('task4.csv', decimal=\",\", index_col=0, delimiter=' ')\n",
    "df"
   ]
  },
  {
   "cell_type": "markdown",
   "metadata": {},
   "source": [
    "a) Побудувати матричну діаграму розсіювання спостережень, проаналізувати отримані результати."
   ]
  },
  {
   "cell_type": "code",
   "execution_count": 282,
   "metadata": {},
   "outputs": [
    {
     "data": {
      "image/png": "[encoded data removed]",
      "text/plain": [
       "<Figure size 720x720 with 16 Axes>"
      ]
     },
     "metadata": {
      "needs_background": "light"
     },
     "output_type": "display_data"
    }
   ],
   "source": [
    "g = sb.PairGrid(df)\n",
    "g.map(plt.scatter)\n",
    "plt.show()\n",
    "\n",
    "X1 = np.array(df['Фактор1']).reshape(-1,1)\n",
    "X2 = np.array(df['Фактор2']).reshape(-1,1)\n",
    "X3 = np.array(df['Фактор3']).reshape(-1,1)\n",
    "\n",
    "X = df[['Фактор1', 'Фактор2', 'Фактор3']]\n",
    "Y = df['Відгук']"
   ]
  },
  {
   "cell_type": "markdown",
   "metadata": {},
   "source": [
    "b) Підігнати модель дво- та однофакторної лінійної регресії: отримати оцінки параметрів та їх 95%-довірчі інтервали."
   ]
  },
  {
   "cell_type": "code",
   "execution_count": 283,
   "metadata": {},
   "outputs": [
    {
     "name": "stdout",
     "output_type": "stream",
     "text": [
      "9.977525359841842\n",
      "3.011871547088929\n",
      "[-1.0013166401581568, 20.956367359841842]\n",
      "[-0.04156093889937518, 7.896411061100624]\n"
     ]
    }
   ],
   "source": [
    "model1 = linear_model.LinearRegression().fit(X1, Y)\n",
    "model2 = linear_model.LinearRegression().fit(X2, Y)\n",
    "model3 = linear_model.LinearRegression().fit(X3, Y)\n",
    "\n",
    "b0_x1 = model1.intercept_\n",
    "b1_x1 = model1.coef_[0]\n",
    "\n",
    "b0_x2 = model2.intercept_\n",
    "b1_x2 = model2.coef_[0]\n",
    "\n",
    "print(b0_x1)\n",
    "print(b1_x1)\n",
    "\n",
    "t = 15.729\n",
    "std_err = 0.698\n",
    "\n",
    "interval = [b0_x1 - t * std_err, b0_x1 + t * std_err]\n",
    "print(interval)\n",
    "\n",
    "t1 = -13.186\n",
    "std_err1 = 0.301\n",
    "\n",
    "interval = [b0_x2 + t1 * std_err1, b0_x2 - t1 * std_err1]\n",
    "print(interval)\n"
   ]
  },
  {
   "cell_type": "markdown",
   "metadata": {},
   "source": [
    "c. провести аналіз виконання припущень лінійної моделі: нормальність залишків,\n",
    "однорідність дисперсій. "
   ]
  },
  {
   "cell_type": "code",
   "execution_count": 285,
   "metadata": {},
   "outputs": [
    {
     "name": "stdout",
     "output_type": "stream",
     "text": [
      "KstestResult(statistic=0.11053962737466261, pvalue=0.9413542081837347)\n"
     ]
    },
    {
     "data": {
      "image/png": "[encoded data removed]",
      "text/plain": [
       "<Figure size 432x288 with 1 Axes>"
      ]
     },
     "metadata": {
      "needs_background": "light"
     },
     "output_type": "display_data"
    }
   ],
   "source": [
    "regr = linear_model.LinearRegression()\n",
    "regr.fit(X, Y)\n",
    "\n",
    "b0 = regr.intercept_\n",
    "b1 = regr.coef_[0]\n",
    "b2 = regr.coef_[1]\n",
    "b3 = regr.coef_[2]\n",
    "model = lambda x1, x2, x3: x2 * b2 + x1 * b1 + x3*b3 + b0\n",
    "U = Y - model(X['Фактор1'], X['Фактор2'],  X['Фактор3'])\n",
    "test = sp.kstest((U-U.mean())/U.std(), 'norm')\n",
    "print(test)\n",
    "\n",
    "\n",
    "n = len(X1)\n",
    "b = np.array([b2, b1])\n",
    "x3 = np.column_stack([X2,[1]*n])\n",
    "sigm_hat = 1/(n-2)*np.linalg.norm(Y-x3 @ b)**2\n",
    "\n",
    "P = (x3@np.linalg.inv((x3.transpose()@x3)))@x3.transpose()\n",
    "d = U/(sigm_hat*np.sqrt(1-P.diagonal()))\n",
    "sb.scatterplot(np.arange(1,len(d)+1), d)\n",
    "plt.show()"
   ]
  },
  {
   "cell_type": "markdown",
   "metadata": {},
   "source": [
    "## Завдання №2"
   ]
  },
  {
   "cell_type": "code",
   "execution_count": 296,
   "metadata": {},
   "outputs": [
    {
     "data": {
      "text/html": [
       "<div>\n",
       "<style scoped>\n",
       "    .dataframe tbody tr th:only-of-type {\n",
       "        vertical-align: middle;\n",
       "    }\n",
       "\n",
       "    .dataframe tbody tr th {\n",
       "        vertical-align: top;\n",
       "    }\n",
       "\n",
       "    .dataframe thead th {\n",
       "        text-align: right;\n",
       "    }\n",
       "</style>\n",
       "<table border=\"1\" class=\"dataframe\">\n",
       "  <thead>\n",
       "    <tr style=\"text-align: right;\">\n",
       "      <th></th>\n",
       "      <th>date</th>\n",
       "      <th>Cat1</th>\n",
       "      <th>Cat2</th>\n",
       "      <th>Cat3</th>\n",
       "      <th>prize1</th>\n",
       "      <th>prize2</th>\n",
       "      <th>prize3</th>\n",
       "    </tr>\n",
       "    <tr>\n",
       "      <th>id</th>\n",
       "      <th></th>\n",
       "      <th></th>\n",
       "      <th></th>\n",
       "      <th></th>\n",
       "      <th></th>\n",
       "      <th></th>\n",
       "      <th></th>\n",
       "    </tr>\n",
       "  </thead>\n",
       "  <tbody>\n",
       "    <tr>\n",
       "      <th>5077</th>\n",
       "      <td>25.04.2018</td>\n",
       "      <td>13</td>\n",
       "      <td>0</td>\n",
       "      <td>57</td>\n",
       "      <td>500</td>\n",
       "      <td>160</td>\n",
       "      <td>85</td>\n",
       "    </tr>\n",
       "    <tr>\n",
       "      <th>5076</th>\n",
       "      <td>24.04.2018</td>\n",
       "      <td>9</td>\n",
       "      <td>0</td>\n",
       "      <td>21</td>\n",
       "      <td>500</td>\n",
       "      <td>160</td>\n",
       "      <td>85</td>\n",
       "    </tr>\n",
       "    <tr>\n",
       "      <th>5075</th>\n",
       "      <td>23.04.2018</td>\n",
       "      <td>5</td>\n",
       "      <td>0</td>\n",
       "      <td>26</td>\n",
       "      <td>500</td>\n",
       "      <td>160</td>\n",
       "      <td>85</td>\n",
       "    </tr>\n",
       "    <tr>\n",
       "      <th>5074</th>\n",
       "      <td>22.04.2018</td>\n",
       "      <td>13</td>\n",
       "      <td>0</td>\n",
       "      <td>37</td>\n",
       "      <td>500</td>\n",
       "      <td>160</td>\n",
       "      <td>85</td>\n",
       "    </tr>\n",
       "    <tr>\n",
       "      <th>5073</th>\n",
       "      <td>21.04.2018</td>\n",
       "      <td>7</td>\n",
       "      <td>17</td>\n",
       "      <td>0</td>\n",
       "      <td>500</td>\n",
       "      <td>160</td>\n",
       "      <td>85</td>\n",
       "    </tr>\n",
       "    <tr>\n",
       "      <th>5072</th>\n",
       "      <td>20.04.2018</td>\n",
       "      <td>7</td>\n",
       "      <td>0</td>\n",
       "      <td>14</td>\n",
       "      <td>500</td>\n",
       "      <td>160</td>\n",
       "      <td>85</td>\n",
       "    </tr>\n",
       "    <tr>\n",
       "      <th>5071</th>\n",
       "      <td>19.04.2018</td>\n",
       "      <td>9</td>\n",
       "      <td>0</td>\n",
       "      <td>20</td>\n",
       "      <td>500</td>\n",
       "      <td>160</td>\n",
       "      <td>85</td>\n",
       "    </tr>\n",
       "    <tr>\n",
       "      <th>5070</th>\n",
       "      <td>18.04.2018</td>\n",
       "      <td>8</td>\n",
       "      <td>0</td>\n",
       "      <td>30</td>\n",
       "      <td>500</td>\n",
       "      <td>160</td>\n",
       "      <td>85</td>\n",
       "    </tr>\n",
       "    <tr>\n",
       "      <th>5069</th>\n",
       "      <td>17.04.2018</td>\n",
       "      <td>22</td>\n",
       "      <td>0</td>\n",
       "      <td>19</td>\n",
       "      <td>500</td>\n",
       "      <td>160</td>\n",
       "      <td>85</td>\n",
       "    </tr>\n",
       "    <tr>\n",
       "      <th>5068</th>\n",
       "      <td>16.04.2018</td>\n",
       "      <td>23</td>\n",
       "      <td>27</td>\n",
       "      <td>0</td>\n",
       "      <td>500</td>\n",
       "      <td>160</td>\n",
       "      <td>85</td>\n",
       "    </tr>\n",
       "  </tbody>\n",
       "</table>\n",
       "</div>"
      ],
      "text/plain": [
       "            date  Cat1  Cat2  Cat3  prize1  prize2  prize3\n",
       "id                                                        \n",
       "5077  25.04.2018    13     0    57     500     160      85\n",
       "5076  24.04.2018     9     0    21     500     160      85\n",
       "5075  23.04.2018     5     0    26     500     160      85\n",
       "5074  22.04.2018    13     0    37     500     160      85\n",
       "5073  21.04.2018     7    17     0     500     160      85\n",
       "5072  20.04.2018     7     0    14     500     160      85\n",
       "5071  19.04.2018     9     0    20     500     160      85\n",
       "5070  18.04.2018     8     0    30     500     160      85\n",
       "5069  17.04.2018    22     0    19     500     160      85\n",
       "5068  16.04.2018    23    27     0     500     160      85"
      ]
     },
     "execution_count": 296,
     "metadata": {},
     "output_type": "execute_result"
    }
   ],
   "source": [
    "cols = [\"id\", \"date\", \"Cat1\", \"Cat2\", \"Cat3\", \"prize1\", \"prize2\", \"prize3\"]\n",
    "df = pd.read_csv(\"lottery.csv\", decimal=\",\", delimiter=' ')\n",
    "df.columns = cols\n",
    "df.set_index(\"id\", inplace=True)\n",
    "df.head(10)"
   ]
  },
  {
   "cell_type": "markdown",
   "metadata": {},
   "source": [
    "1.a) Загальна Сумма Виплат"
   ]
  },
  {
   "cell_type": "code",
   "execution_count": 326,
   "metadata": {},
   "outputs": [
    {
     "name": "stdout",
     "output_type": "stream",
     "text": [
      "6500\n",
      "4500\n",
      "2500\n",
      "6500\n",
      "6220\n",
      "3500\n",
      "4500\n",
      "4000\n",
      "11000\n",
      "15820\n",
      "4000\n",
      "4000\n",
      "2500\n",
      "12500\n",
      "2000\n",
      "9360\n",
      "2000\n",
      "1000\n",
      "2000\n",
      "16500\n",
      "114000\n",
      "5000\n",
      "8180\n",
      "4000\n",
      "3000\n",
      "9100\n",
      "25040\n",
      "3500\n",
      "7380\n",
      "7000\n",
      "2000\n",
      "98000\n",
      "9500\n",
      "6740\n",
      "29000\n",
      "8400\n",
      "10480\n",
      "7500\n",
      "5500\n",
      "2000\n",
      "3500\n",
      "31500\n",
      "4500\n",
      "13740\n",
      "1000\n",
      "11000\n",
      "6000\n",
      "5000\n",
      "12500\n",
      "9920\n",
      "Загальна: 584880\n"
     ]
    }
   ],
   "source": [
    "paid = []\n",
    "for i in df.index:\n",
    "    summ = + df.loc[i][df.columns[4]]*df.loc[i][df.columns[1]]+df.loc[i][df.columns[5]]*df.loc[i][df.columns[2]]\n",
    "    +df.loc[i][df.columns[6]]*df.loc[i][df.columns[3]]\n",
    "    paid.append(summ)\n",
    "    summ = 0\n",
    "for i in paid:\n",
    "    print(i)\n",
    "print(\"Загальна:\", sum(paid))"
   ]
  },
  {
   "cell_type": "markdown",
   "metadata": {},
   "source": [
    "b. Обчислити вибіркові характеристики (середнє, медіана, дисперсія, інтерквартильний\n",
    "розмах) за цими спостереженнями"
   ]
  },
  {
   "cell_type": "code",
   "execution_count": 327,
   "metadata": {},
   "outputs": [],
   "source": [
    "df.drop([\"date\"], axis=1, inplace=True)"
   ]
  },
  {
   "cell_type": "code",
   "execution_count": 331,
   "metadata": {},
   "outputs": [],
   "source": [
    "template = \"Для {} параметра маємо:\\n    середнє: {}\\n    медіана: {}\\n\\\n",
    "    дисперсія: {}\\n    інтерквантильний розмах: {}\\n\\n\""
   ]
  },
  {
   "cell_type": "code",
   "execution_count": 332,
   "metadata": {},
   "outputs": [
    {
     "name": "stdout",
     "output_type": "stream",
     "text": [
      "Для Cat1 параметра маємо:\n",
      "    середнє: 21.36\n",
      "    медіана: 9.5\n",
      "    дисперсія: 41.26161432041323\n",
      "    інтерквантильний розмах: 8.0\n",
      "\n",
      "\n",
      "Для Cat2 параметра маємо:\n",
      "    середнє: 6.36\n",
      "    медіана: 0.0\n",
      "    дисперсія: 11.90568377383042\n",
      "    інтерквантильний розмах: 9.0\n",
      "\n",
      "\n",
      "Для Cat3 параметра маємо:\n",
      "    середнє: 25.12\n",
      "    медіана: 23.5\n",
      "    дисперсія: 21.713947365785007\n",
      "    інтерквантильний розмах: 39.5\n",
      "\n",
      "\n",
      "Для prize1 параметра маємо:\n",
      "    середнє: 500.0\n",
      "    медіана: 500.0\n",
      "    дисперсія: 0.0\n",
      "    інтерквантильний розмах: 0.0\n",
      "\n",
      "\n",
      "Для prize2 параметра маємо:\n",
      "    середнє: 160.0\n",
      "    медіана: 160.0\n",
      "    дисперсія: 0.0\n",
      "    інтерквантильний розмах: 0.0\n",
      "\n",
      "\n",
      "Для prize3 параметра маємо:\n",
      "    середнє: 85.0\n",
      "    медіана: 85.0\n",
      "    дисперсія: 0.0\n",
      "    інтерквантильний розмах: 0.0\n",
      "\n",
      "\n"
     ]
    }
   ],
   "source": [
    "stds = {}\n",
    "for i in df.columns:\n",
    "    mean = df[i].mean()\n",
    "    median = df[i].quantile(.5)\n",
    "    disp = df[i].std()\n",
    "    stds[i] = disp\n",
    "    IQR = df[i].quantile(.75) - df[i].quantile(.25)\n",
    "    print(template.format(i, mean, median, disp, IQR))"
   ]
  },
  {
   "cell_type": "markdown",
   "metadata": {},
   "source": [
    "с) Для наборів спостережень побудувати графіки типу «вусатих коробочок» "
   ]
  },
  {
   "cell_type": "code",
   "execution_count": 334,
   "metadata": {},
   "outputs": [],
   "source": [
    "X = df[[\"Cat1\", \"Cat2\", \"Cat3\"]]"
   ]
  },
  {
   "cell_type": "code",
   "execution_count": 335,
   "metadata": {},
   "outputs": [
    {
     "name": "stdout",
     "output_type": "stream",
     "text": [
      "Cat1\n"
     ]
    },
    {
     "data": {
      "image/png": "[encoded data removed]",
      "text/plain": [
       "<Figure size 432x288 with 1 Axes>"
      ]
     },
     "metadata": {
      "needs_background": "light"
     },
     "output_type": "display_data"
    },
    {
     "name": "stdout",
     "output_type": "stream",
     "text": [
      "Cat2\n"
     ]
    },
    {
     "data": {
      "image/png": "[encoded data removed]",
      "text/plain": [
       "<Figure size 432x288 with 1 Axes>"
      ]
     },
     "metadata": {
      "needs_background": "light"
     },
     "output_type": "display_data"
    },
    {
     "name": "stdout",
     "output_type": "stream",
     "text": [
      "Cat3\n"
     ]
    },
    {
     "data": {
      "image/png": "[encoded data removed]",
      "text/plain": [
       "<Figure size 432x288 with 1 Axes>"
      ]
     },
     "metadata": {
      "needs_background": "light"
     },
     "output_type": "display_data"
    }
   ],
   "source": [
    "for i in X.columns:\n",
    "    print(i)\n",
    "    plt.boxplot(X[i])\n",
    "    plt.show()"
   ]
  }
 ],
 "metadata": {
  "kernelspec": {
   "display_name": "Python 3",
   "language": "python",
   "name": "python3"
  },
  "language_info": {
   "codemirror_mode": {
    "name": "ipython",
    "version": 3
   },
   "file_extension": ".py",
   "mimetype": "text/x-python",
   "name": "python",
   "nbconvert_exporter": "python",
   "pygments_lexer": "ipython3",
   "version": "3.7.3"
  }
 },
 "nbformat": 4,
 "nbformat_minor": 2
}
